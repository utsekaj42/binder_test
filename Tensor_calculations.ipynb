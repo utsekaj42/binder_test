{
 "cells": [
  {
   "cell_type": "code",
   "execution_count": 12,
   "metadata": {
    "collapsed": true
   },
   "outputs": [],
   "source": [
    "%matplotlib inline\n",
    "import numpy as np"
   ]
  },
  {
   "cell_type": "markdown",
   "metadata": {},
   "source": [
    "\\begin{equation}\n",
    "\\mathbf{T} = \\begin{bmatrix} 90& -30& 0\\\\ -30& 120& -30 \\\\ 0 &-30&  90 \\end{bmatrix} MPa\n",
    "\\end{equation}"
   ]
  },
  {
   "cell_type": "code",
   "execution_count": 6,
   "metadata": {
    "collapsed": false
   },
   "outputs": [
    {
     "name": "stdout",
     "output_type": "stream",
     "text": [
      "T=[[ 90 -30   0]\n",
      " [-30 120 -30]\n",
      " [  0 -30  90]]\n"
     ]
    }
   ],
   "source": [
    "T= np.array([[90, -30, 0], \n",
    "            [-30, 120, -30],\n",
    "            [0, -30, 90]])\n",
    "print(\"T={}\".format(T))"
   ]
  },
  {
   "cell_type": "markdown",
   "metadata": {},
   "source": [
    "a) Establish the principal stresses $\\sigma_1$, $\\sigma_2$ and $\\sigma_3$, and the corresponding directions $\\mathbf{n}_1$, $\\mathbf{n}_2$ and $\\mathbf{n}_3$ with hand-calculations."
   ]
  },
  {
   "cell_type": "code",
   "execution_count": 7,
   "metadata": {
    "collapsed": false
   },
   "outputs": [
    {
     "data": {
      "text/plain": [
       "(array([ 150.,   90.,   60.]),\n",
       " array([[ -4.08248290e-01,  -7.07106781e-01,   5.77350269e-01],\n",
       "        [  8.16496581e-01,   1.35902313e-16,   5.77350269e-01],\n",
       "        [ -4.08248290e-01,   7.07106781e-01,   5.77350269e-01]]))"
      ]
     },
     "execution_count": 7,
     "metadata": {},
     "output_type": "execute_result"
    }
   ],
   "source": []
  },
  {
   "cell_type": "markdown",
   "metadata": {},
   "source": [
    "b) Find the numerical values for the three stress invariants $I$, $II$ and $III$."
   ]
  },
  {
   "cell_type": "code",
   "execution_count": 9,
   "metadata": {
    "collapsed": false
   },
   "outputs": [
    {
     "name": "stdout",
     "output_type": "stream",
     "text": [
      "300 27900.0 810000.0\n"
     ]
    }
   ],
   "source": [
    "I = np.trace(T)\n",
    "II = 0.5*(np.trace(T)**2 - np.trace(np.dot(T,T)))\n",
    "III = np.linalg.det(T)\n",
    "print(I,II,III)"
   ]
  },
  {
   "cell_type": "markdown",
   "metadata": {},
   "source": [
    "c) Use the invariants to establish the characteristic polynomial from the eigenvalue problem. Furthermore, plot the polynomial and graphically determine the principal stresses."
   ]
  },
  {
   "cell_type": "code",
   "execution_count": 14,
   "metadata": {
    "collapsed": true
   },
   "outputs": [],
   "source": [
    "polynomial = lambda x: x**3 - I*x**2 + II*x - III"
   ]
  },
  {
   "cell_type": "code",
   "execution_count": 30,
   "metadata": {
    "collapsed": false
   },
   "outputs": [
    {
     "data": {
      "text/plain": [
       "[<matplotlib.lines.Line2D at 0x7fd47b204ba8>]"
      ]
     },
     "execution_count": 30,
     "metadata": {},
     "output_type": "execute_result"
    },
    {
     "data": {
      "image/png": "[encoded data removed]",
      "text/plain": [
       "<matplotlib.figure.Figure at 0x7fd47b204748>"
      ]
     },
     "metadata": {},
     "output_type": "display_data"
    }
   ],
   "source": [
    "from matplotlib import pyplot as plt\n",
    "lower_bound = -200\n",
    "upper_bound = 200\n",
    "n_pts = 50\n",
    "xvals = np.linspace(lower_bound,upper_bound,n_pts) # Define points at which to evaluate the polynomial\n",
    "plt.plot(xvals,polynomial(xvals)) # Plot the polynomial at those points\n",
    "plt.plot(xvals,0*xvals) # Plot a horizontal line at y=0 at the same points\n"
   ]
  },
  {
   "cell_type": "code",
   "execution_count": 29,
   "metadata": {
    "collapsed": false
   },
   "outputs": [
    {
     "data": {
      "text/plain": [
       "[<matplotlib.lines.Line2D at 0x7fd47ab99748>]"
      ]
     },
     "execution_count": 29,
     "metadata": {},
     "output_type": "execute_result"
    },
    {
     "data": {
      "image/png": "[encoded data removed]",
      "text/plain": [
       "<matplotlib.figure.Figure at 0x7fd47ab99ef0>"
      ]
     },
     "metadata": {},
     "output_type": "display_data"
    }
   ],
   "source": [
    "xvals = np.linspace(0,upper_bound,n_pts)\n",
    "plt.plot(xvals,polynomial(xvals))\n",
    "plt.plot(xvals,0*xvals)\n"
   ]
  },
  {
   "cell_type": "markdown",
   "metadata": {},
   "source": [
    "d) Use `fsolve` from the `scipy.optimize` library to find the solutions of the characteristic polynom."
   ]
  },
  {
   "cell_type": "code",
   "execution_count": 32,
   "metadata": {
    "collapsed": false
   },
   "outputs": [
    {
     "name": "stdout",
     "output_type": "stream",
     "text": [
      "[ 60.]\n",
      "[ 90.]\n",
      "[ 150.]\n"
     ]
    }
   ],
   "source": [
    "from scipy import optimize as opt\n",
    "initial_guess = 50\n",
    "print(opt.fsolve(polynomial,initial_guess))\n",
    "initial_guess = 100\n",
    "print(opt.fsolve(polynomial,initial_guess))\n",
    "initial_guess = 160\n",
    "print(opt.fsolve(polynomial,initial_guess))\n"
   ]
  },
  {
   "cell_type": "markdown",
   "metadata": {},
   "source": [
    "e) Use `eig` to directly solve for the principal stresses and corresponding directions."
   ]
  },
  {
   "cell_type": "code",
   "execution_count": 34,
   "metadata": {
    "collapsed": false
   },
   "outputs": [],
   "source": [
    "lambdas, ns = np.linalg.eig(T)"
   ]
  },
  {
   "cell_type": "markdown",
   "metadata": {},
   "source": [
    "f) Plot the principal direction vectors $\\mathbf{n}_i$ (i=1,2,3)."
   ]
  },
  {
   "cell_type": "code",
   "execution_count": 59,
   "metadata": {
    "collapsed": false
   },
   "outputs": [
    {
     "data": {
      "text/plain": [
       "(-1, 1)"
      ]
     },
     "execution_count": 59,
     "metadata": {},
     "output_type": "execute_result"
    },
    {
     "data": {
      "image/png": "[encoded data removed]",
      "text/plain": [
       "<matplotlib.figure.Figure at 0x7fd47a8c2be0>"
      ]
     },
     "metadata": {},
     "output_type": "display_data"
    }
   ],
   "source": [
    "from mpl_toolkits.mplot3d import Axes3D\n",
    "#print(origin[:,0],ns[:,0])\n",
    "#plt.quiver(origin[:,0],ns[:,0])\n",
    "#ax.quiver(0,0,0,ns[0,0],ns[0,1],ns[0,2],pivot=\"tip\")\n",
    "#ax.quiver(0,0,0,ns[1,0],ns[1,1],ns[1,2],pivot=\"tip\")\n",
    "#ax.quiver(0,0,0,ns[2,0],ns[2,1],ns[2,2],pivot=\"tip\")\n",
    "fig = plt.figure()\n",
    "ax = fig.gca(projection='3d')\n",
    "\n",
    "ax.quiver(ns[0,0],ns[0,1],ns[0,2],ns[0,0],ns[0,1],ns[0,2],   # data\n",
    "          length=1,                      # arrow length\n",
    "          color='red'                   # arrow colour\n",
    "          )\n",
    "\n",
    "ax.quiver(ns[1,0],ns[1,1],ns[1,2],ns[1,0],ns[1,1],ns[1,2],   # data\n",
    "          length=1,                      # arrow length\n",
    "          color='blue'                    # arrow colour\n",
    "          )\n",
    "\n",
    "ax.quiver(ns[2,0],ns[2,1],ns[2,2],ns[2,0],ns[2,1],ns[2,2],   # data\n",
    "          length=1,                      # arrow length\n",
    "          color='green'                    # arrow colour\n",
    "          )\n",
    "ax.set_xlim(-1,1)\n",
    "ax.set_ylim(-1,1)\n",
    "ax.set_zlim(-1,1)"
   ]
  },
  {
   "cell_type": "markdown",
   "metadata": {},
   "source": [
    "g) The maximum shear stress is found in an orientation between the directions of the smallest and largest principal stresses, $\\sigma_1$ and $\\sigma_3$, and in the plane normal to the direction of $\\sigma_2$. Determine the orientation where the stress element gets the largest shear stress, and the numerical value of this stress. Plot the found normal vector together with the vectors in f)."
   ]
  },
  {
   "cell_type": "code",
   "execution_count": null,
   "metadata": {
    "collapsed": true
   },
   "outputs": [],
   "source": []
  }
 ],
 "metadata": {
  "kernelspec": {
   "display_name": "Python 3",
   "language": "python",
   "name": "python3"
  },
  "language_info": {
   "codemirror_mode": {
    "name": "ipython",
    "version": 3
   },
   "file_extension": ".py",
   "mimetype": "text/x-python",
   "name": "python",
   "nbconvert_exporter": "python",
   "pygments_lexer": "ipython3",
   "version": "3.4.3"
  }
 },
 "nbformat": 4,
 "nbformat_minor": 0
}
